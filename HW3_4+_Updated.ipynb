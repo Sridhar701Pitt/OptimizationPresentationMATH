{
 "cells": [
  {
   "cell_type": "code",
   "execution_count": 2,
   "metadata": {},
   "outputs": [],
   "source": [
    "%matplotlib notebook\n",
    "\n",
    "from matplotlib import pyplot as plt\n",
    "from mpl_toolkits.mplot3d import Axes3D"
   ]
  },
  {
   "cell_type": "code",
   "execution_count": 3,
   "metadata": {},
   "outputs": [],
   "source": [
    "import numpy as np\n",
    "import ipyvolume as ipv\n",
    "\n",
    "X = np.arange(1, 15, 0.1)\n",
    "Y = np.arange(1, 15, 0.1)\n",
    "XX, YY = np.meshgrid(X, Y)\n",
    "ZZ = 1000/(np.multiply(XX,YY)) + 2*XX + 2*YY + np.multiply(XX,YY)\n",
    "X1 = np.array([5.1829])\n",
    "Y1 = np.array([5.1829])\n",
    "Z1 = np.array([84.8207])"
   ]
  },
  {
   "cell_type": "code",
   "execution_count": 4,
   "metadata": {},
   "outputs": [
    {
     "data": {
      "application/vnd.jupyter.widget-view+json": {
       "model_id": "06cf2542830f4b4a86b7f8bc6ad22a6b",
       "version_major": 2,
       "version_minor": 0
      },
      "text/plain": [
       "VBox(children=(Figure(camera=PerspectiveCamera(fov=45.0, position=(0.0, 0.0, 2.0), quaternion=(0.0, 0.0, 0.0, …"
      ]
     },
     "metadata": {},
     "output_type": "display_data"
    }
   ],
   "source": [
    "fig = ipv.figure()\n",
    "ipv.plot_surface(XX, YY, ZZ)\n",
    "ipv.scatter(X1, Y1, Z1, color='#C0C0C0', marker='sphere')\n",
    "ipv.xyzlabel('X','Y',\"g(x,y)\")\n",
    "ipv.show()"
   ]
  },
  {
   "cell_type": "code",
   "execution_count": 5,
   "metadata": {},
   "outputs": [],
   "source": [
    "import numpy as np\n",
    "import ipyvolume as ipv\n",
    "\n",
    "X = np.arange(-1, 70, 0.1)\n",
    "Y = np.arange(-1, 70, 0.1)\n",
    "XX, YY = np.meshgrid(X, Y)\n",
    "ZZ = np.sqrt((5-XX)**2 + (45 -YY)**2) + np.sqrt((12-XX)**2 + (21 -YY)**2) + np.sqrt((17-XX)**2 + (5 -YY)**2) + np.sqrt((52-XX)**2 + (21 -YY)**2)\n",
    "\n"
   ]
  },
  {
   "cell_type": "code",
   "execution_count": 6,
   "metadata": {
    "scrolled": true
   },
   "outputs": [
    {
     "data": {
      "application/vnd.jupyter.widget-view+json": {
       "model_id": "58025e5ea5a84d1c91624bc05156c38e",
       "version_major": 2,
       "version_minor": 0
      },
      "text/plain": [
       "VBox(children=(Figure(camera=PerspectiveCamera(fov=45.0, position=(0.0, 0.0, 2.0), quaternion=(0.0, 0.0, 0.0, …"
      ]
     },
     "metadata": {},
     "output_type": "display_data"
    }
   ],
   "source": [
    "X1 = np.array([12.2])\n",
    "Y1 = np.array([21.0])\n",
    "Z1 = np.array([81.761])\n",
    "fig1 = ipv.figure()\n",
    "ipv.plot_surface(XX, YY, ZZ)\n",
    "ipv.xyzlabel('X','Y',\"f(x,y)\")\n",
    "ipv.scatter(X1, Y1, Z1, color='#C0C0C0', marker='sphere', size = 5)\n",
    "#ipv.animation_control(scatter, interval=1000) # shows controls for animation controls\n",
    "ipv.show()"
   ]
  },
  {
   "cell_type": "markdown",
   "metadata": {},
   "source": [
    "#### HW3 Q6\n",
    "\n",
    "<img src=\"files/H3P6.jpg\" alt=\"Drawing\" style=\"width: 600px;\"/>"
   ]
  },
  {
   "cell_type": "code",
   "execution_count": 18,
   "metadata": {
    "scrolled": true
   },
   "outputs": [
    {
     "data": {
      "text/plain": [
       "      fun: -5.183006224748546\n",
       " hess_inv: array([[9.25753801, 2.05201166],\n",
       "       [2.05201166, 1.10319703]])\n",
       "      jac: array([1.15651965, 0.21067005])\n",
       "  message: 'Desired error not necessarily achieved due to precision loss.'\n",
       "     nfev: 366\n",
       "      nit: 3\n",
       "     njev: 90\n",
       "   status: 2\n",
       "  success: False\n",
       "        x: array([-2.89206589,  0.57348034])"
      ]
     },
     "execution_count": 18,
     "metadata": {},
     "output_type": "execute_result"
    }
   ],
   "source": [
    "from scipy import optimize\n",
    "\n",
    "def f(var):\n",
    "    x, y = var\n",
    "    return (2/(x*y)) + 1*x*y + 1*x + 1*y\n",
    "\n",
    "def gradf(var):\n",
    "    x, y = var\n",
    "    gx = -2/(y*(x**2)) + 1*y + 1*1\n",
    "    gy = -2/(x*(y**2)) + 1*x + 1*1\n",
    "    return np.array([gx,gy])\n",
    "\n",
    "x0 = np.array([2,3])\n",
    "\n",
    "res1 = optimize.minimize(f, x0)\n",
    "\n",
    "#k = np.asarray(allvecs)\n",
    "res1"
   ]
  }
 ],
 "metadata": {
  "kernelspec": {
   "display_name": "Python 3",
   "language": "python",
   "name": "python3"
  },
  "language_info": {
   "codemirror_mode": {
    "name": "ipython",
    "version": 3
   },
   "file_extension": ".py",
   "mimetype": "text/x-python",
   "name": "python",
   "nbconvert_exporter": "python",
   "pygments_lexer": "ipython3",
   "version": "3.7.3"
  }
 },
 "nbformat": 4,
 "nbformat_minor": 2
}
